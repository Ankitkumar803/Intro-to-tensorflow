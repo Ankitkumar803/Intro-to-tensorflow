{
  "nbformat": 4,
  "nbformat_minor": 0,
  "metadata": {
    "colab": {
      "name": "Housing_prises_w1",
      "provenance": [],
      "authorship_tag": "ABX9TyOynEU66ntywfWeTboKVr10",
      "include_colab_link": true
    },
    "kernelspec": {
      "name": "python3",
      "display_name": "Python 3"
    },
    "language_info": {
      "name": "python"
    }
  },
  "cells": [
    {
      "cell_type": "markdown",
      "metadata": {
        "id": "view-in-github",
        "colab_type": "text"
      },
      "source": [
        "<a href=\"https://colab.research.google.com/github/Ankitkumar803/Intro-to-tensorflow/blob/main/W1/Housing_prises_w1.ipynb\" target=\"_parent\"><img src=\"https://colab.research.google.com/assets/colab-badge.svg\" alt=\"Open In Colab\"/></a>"
      ]
    },
    {
      "cell_type": "markdown",
      "source": [
        "**Predictiong housing prise**"
      ],
      "metadata": {
        "id": "P69aBBU6iaqb"
      }
    },
    {
      "cell_type": "code",
      "execution_count": 11,
      "metadata": {
        "id": "QYzYH9h0-oGe"
      },
      "outputs": [],
      "source": [
        "import tensorflow as tf\n",
        "import numpy as np\n",
        "from tensorflow import keras\n",
        "\n",
        "class Callback(tf.keras.callbacks.Callback):\n",
        "    SHOW_NUMBER = 10\n",
        "    counter = 0\n",
        "    epoch = 0\n",
        "\n",
        "    def on_epoch_begin(self, epoch, logs=None):\n",
        "        self.epoch = epoch\n",
        "\n",
        "    def on_train_batch_end(self, batch, logs=None):\n",
        "        if self.counter == self.SHOW_NUMBER or self.epoch == 1:\n",
        "            print('Epoch: ' + str(self.epoch) + ' loss: ' + str(logs['loss']))\n",
        "            if self.epoch > 1:\n",
        "                self.counter = 0\n",
        "        self.counter += 1\n"
      ]
    },
    {
      "cell_type": "markdown",
      "source": [
        "Final code"
      ],
      "metadata": {
        "id": "R8ITo8rDiXHH"
      }
    },
    {
      "cell_type": "code",
      "source": [
        "# GRADED FUNCTION: house_model\n",
        "def house_model():\n",
        "    ### START CODE HERE\n",
        "    \n",
        "    # Define input and output tensors with the values for houses with 1 up to 6 bedrooms\n",
        "    # Hint: Remember to explictly set the dtype as float\n",
        "    xs = np.array([1,2,3,4,5,6],dtype=float)\n",
        "    ys = np.array([1,1.5,2,2.5,3,3.5])\n",
        "    \n",
        "    # Define your model (should be a model with 1 dense layer and 1 unit)\n",
        "    model = tf.keras.Sequential([keras.layers.Dense(units=1, input_shape=[1])])\n",
        "    \n",
        "    # Compile your model\n",
        "    # Set the optimizer to Stochastic Gradient Descent\n",
        "    # and use Mean Squared Error as the loss function\n",
        "    model.compile(optimizer='sgd', loss='mean_squared_error')\n",
        "    \n",
        "    # Train your model for 1000 epochs by feeding the i/o tensors\n",
        "    model.fit(xs, ys, epochs=500,verbose=0,callbacks=[Callback()]);\n",
        "    \n",
        "    ### END CODE HERE\n",
        "    return model\n",
        "\n",
        "\n",
        "\n",
        "\n",
        "\n",
        "\n",
        "# Get your trained model\n",
        "model = house_model()\n",
        "\n",
        "\n",
        "new_y = 7.0\n",
        "prediction = model.predict([new_y])[0]\n",
        "print(prediction)"
      ],
      "metadata": {
        "colab": {
          "base_uri": "https://localhost:8080/"
        },
        "id": "k8UVHXqSjda3",
        "outputId": "b783a428-d729-4cdc-ac41-a114ed5aef34"
      },
      "execution_count": 12,
      "outputs": [
        {
          "output_type": "stream",
          "name": "stdout",
          "text": [
            "Epoch: 1 loss: 0.2737019956111908\n",
            "Epoch: 10 loss: 0.0380086675286293\n",
            "Epoch: 20 loss: 0.03511730954051018\n",
            "Epoch: 30 loss: 0.032640986144542694\n",
            "Epoch: 40 loss: 0.030339384451508522\n",
            "Epoch: 50 loss: 0.028200067579746246\n",
            "Epoch: 60 loss: 0.026211589574813843\n",
            "Epoch: 70 loss: 0.024363338947296143\n",
            "Epoch: 80 loss: 0.022645404562354088\n",
            "Epoch: 90 loss: 0.021048612892627716\n",
            "Epoch: 100 loss: 0.019564425572752953\n",
            "Epoch: 110 loss: 0.018184876069426537\n",
            "Epoch: 120 loss: 0.016902610659599304\n",
            "Epoch: 130 loss: 0.015710756182670593\n",
            "Epoch: 140 loss: 0.014602947048842907\n",
            "Epoch: 150 loss: 0.013573256321251392\n",
            "Epoch: 160 loss: 0.012616167776286602\n",
            "Epoch: 170 loss: 0.011726568453013897\n",
            "Epoch: 180 loss: 0.010899696499109268\n",
            "Epoch: 190 loss: 0.010131106711924076\n",
            "Epoch: 200 loss: 0.009416738525032997\n",
            "Epoch: 210 loss: 0.008752744644880295\n",
            "Epoch: 220 loss: 0.008135559968650341\n",
            "Epoch: 230 loss: 0.007561900187283754\n",
            "Epoch: 240 loss: 0.0070286900736391544\n",
            "Epoch: 250 loss: 0.006533073261380196\n",
            "Epoch: 260 loss: 0.006072400603443384\n",
            "Epoch: 270 loss: 0.005644224584102631\n",
            "Epoch: 280 loss: 0.005246229935437441\n",
            "Epoch: 290 loss: 0.004876312334090471\n",
            "Epoch: 300 loss: 0.0045324708335101604\n",
            "Epoch: 310 loss: 0.00421286653727293\n",
            "Epoch: 320 loss: 0.0039158049039542675\n",
            "Epoch: 330 loss: 0.0036396959330886602\n",
            "Epoch: 340 loss: 0.003383045783266425\n",
            "Epoch: 350 loss: 0.0031445014756172895\n",
            "Epoch: 360 loss: 0.0029227733612060547\n",
            "Epoch: 370 loss: 0.0027166770305484533\n",
            "Epoch: 380 loss: 0.0025251186452805996\n",
            "Epoch: 390 loss: 0.0023470658343285322\n",
            "Epoch: 400 loss: 0.0021815618965774775\n",
            "Epoch: 410 loss: 0.002027735812589526\n",
            "Epoch: 420 loss: 0.0018847560277208686\n",
            "Epoch: 430 loss: 0.001751855481415987\n",
            "Epoch: 440 loss: 0.0016283286968246102\n",
            "Epoch: 450 loss: 0.0015135071007534862\n",
            "Epoch: 460 loss: 0.0014067901065573096\n",
            "Epoch: 470 loss: 0.0013075940078124404\n",
            "Epoch: 480 loss: 0.0012153898132964969\n",
            "Epoch: 490 loss: 0.0011296889279037714\n",
            "[4.0469112]\n"
          ]
        }
      ]
    }
  ]
}